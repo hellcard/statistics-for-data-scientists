{
 "cells": [
  {
   "cell_type": "markdown",
   "id": "02fefd5e-610c-4c4e-a71f-e6c9c8b986ff",
   "metadata": {},
   "source": [
    "# intelligence analysis"
   ]
  },
  {
   "cell_type": "markdown",
   "id": "d8b9b252-a8bb-4765-8bcd-654cce5a1a7d",
   "metadata": {},
   "source": [
    "### centrality estimates"
   ]
  },
  {
   "cell_type": "markdown",
   "id": "3c4d2b26-7880-4724-8913-644883e39f6c",
   "metadata": {},
   "source": [
    "+ **mean**\n",
    "+ **weighted mean**\n",
    "+ **median**\n",
    "+ **weighted median**\n",
    "+ **trimmed mean**\n",
    "+ **robust**\n",
    "+ **outlier**"
   ]
  },
  {
   "cell_type": "markdown",
   "id": "e7db114c-6644-4c4f-82c2-d1dbfbd268a4",
   "metadata": {},
   "source": [
    "#### mean\n",
    "\n",
    "**mean** - the sum of all values divided by their number\n",
    "\n",
    "$$x=\\frac{\\sum\\limits_{i=1}^{n} x_i}{n}$$"
   ]
  },
  {
   "cell_type": "code",
   "execution_count": 1,
   "id": "0211e8bf-6de9-4d1b-a3ed-f2f2f3cf2c09",
   "metadata": {},
   "outputs": [
    {
     "data": {
      "text/plain": [
       "3.0"
      ]
     },
     "execution_count": 1,
     "metadata": {},
     "output_type": "execute_result"
    }
   ],
   "source": [
    "data = [1,2,3,4,5]\n",
    "sum = 0\n",
    "for i in data:\n",
    "    sum += i\n",
    "sum/len(data)"
   ]
  },
  {
   "cell_type": "markdown",
   "id": "3ecb2199-5c7e-44eb-8645-3ed289a9d023",
   "metadata": {},
   "source": [
    "#### trimmed mean\n",
    "**trimmed mean** - a type of mean that is calculated by discarding a fixed number of sorted values ​​from each end of the sequence and then taking the mean of the remaining values\n",
    "\n",
    "$$ x = \\frac {\\sum\\limits_{i=p+1}^{n-p} x_i}{n-2p}$$"
   ]
  },
  {
   "cell_type": "code",
   "execution_count": 2,
   "id": "420e04e6-6db1-42ed-bbd8-fa127decdbca",
   "metadata": {},
   "outputs": [
    {
     "name": "stdout",
     "output_type": "stream",
     "text": [
      "DATA: [3, 4, 4, 5]\n"
     ]
    },
    {
     "data": {
      "text/plain": [
       "4.0"
      ]
     },
     "execution_count": 2,
     "metadata": {},
     "output_type": "execute_result"
    }
   ],
   "source": [
    "data = [3,4,2,5,6,1,9,4,9,3]\n",
    "data.sort()\n",
    "p = 0.3\n",
    "id1 = int(len(data) * p)\n",
    "for i in range(id1):\n",
    "    data.pop()\n",
    "for i in range(id1):\n",
    "    data.pop(0)\n",
    "print('DATA:',data)\n",
    "sum = 0\n",
    "for i in data:\n",
    "    sum += i\n",
    "sum/len(data)"
   ]
  },
  {
   "cell_type": "markdown",
   "id": "cba5187a-4bc7-4c9b-8a80-abdaa11c5e5f",
   "metadata": {},
   "source": [
    "#### median\n",
    "**median** - a number located exactly in the middle of a sorted list of data\n",
    "\n",
    "if the number of elements is odd, then the median can be found like this:\n",
    "\n",
    "$$ index = \\frac{len(list)}{2}$$\n",
    "\n",
    "otherwise, the median can be found by adding the 2 middle elements of the list\n",
    "\n",
    "$$ index = \\frac{len(list)//2 + (len(list)//2-1)}{2}$$"
   ]
  },
  {
   "cell_type": "code",
   "execution_count": 3,
   "id": "aa94a5ff-ab30-4d9b-88ae-40c7916d6670",
   "metadata": {},
   "outputs": [
    {
     "data": {
      "text/plain": [
       "(50, 47.5, 3.5)"
      ]
     },
     "execution_count": 3,
     "metadata": {},
     "output_type": "execute_result"
    }
   ],
   "source": [
    "data_test_1 = [i for i in range(101)]\n",
    "data_test_2 = [i for i in range(96)]\n",
    "def median(data: list) -> int:\n",
    "    if len(data) % 2 == 1:\n",
    "        return data[len(data)//2]\n",
    "    else:\n",
    "        return (data[len(data) // 2] + data[len(data) // 2 - 1]) / 2\n",
    "median(sorted(data_test_1)), median(sorted(data_test_2)), median(sorted([1,2,3,4,5,6]))"
   ]
  },
  {
   "cell_type": "markdown",
   "id": "bbc8fcc2-6fa4-40c0-86ac-febf2c44678e",
   "metadata": {},
   "source": [
    "#### outliers\n",
    "\n",
    "the **median** is called a robust estimate of centrality because it is not influenced by outliers\n",
    "\n",
    "**outliers** - any value that is very distant from other values in the data set, outliers can interfere with data analysis and machine learning because data is not cleared"
   ]
  },
  {
   "cell_type": "markdown",
   "id": "017e748a-826e-4d79-9811-7047b95f571b",
   "metadata": {},
   "source": [
    "### variability estimates\n",
    "\n",
    "+ **deviations**\n",
    "+ **variance**\n",
    "+ **standard deviation**\n",
    "+ **mean absolute deviation**\n",
    "+ **median absolute deviation from the median**\n",
    "+ **range**\n",
    "+ **order statistics**\n",
    "+ **percentile**\n",
    "+ **interquartile range (IQR)**"
   ]
  },
  {
   "cell_type": "markdown",
   "id": "ba25bf70-ccd0-4a57-93c2-467dc7eb3223",
   "metadata": {},
   "source": [
    "#### deviations\n",
    "\n",
    "**deviations** - the difference between the observed values and the central position estimate\n",
    "\n",
    "\n",
    "$$deviations = \\sum\\limits_{i=1}^{n} x_i - x_{mean}$$"
   ]
  },
  {
   "cell_type": "code",
   "execution_count": 4,
   "id": "65d6c5b6-e7a8-4c61-ae86-55a7b1b28f6f",
   "metadata": {},
   "outputs": [
    {
     "data": {
      "text/plain": [
       "[-2.0, -1.0, 0.0, 1.0, 2.0]"
      ]
     },
     "execution_count": 4,
     "metadata": {},
     "output_type": "execute_result"
    }
   ],
   "source": [
    "data = [1,2,3,4,5]\n",
    "\n",
    "sum = 0\n",
    "for i in data:\n",
    "    sum+=i\n",
    "mean = sum/len(data)\n",
    "\n",
    "deviations = [i - mean for i in data]\n",
    "deviations"
   ]
  },
  {
   "cell_type": "markdown",
   "id": "8113f993-65bc-4313-8828-eeb57c4dc43b",
   "metadata": {},
   "source": [
    "#### standard absolute deviation\n",
    "\n",
    "**standard absolute deviation** - average of absolute values of deviations from the average\n",
    "\n",
    "$$sad = \\frac{\\sum\\limits_{i=1}^{n}|x_i - x_{mean}|}{2}$$"
   ]
  },
  {
   "cell_type": "code",
   "execution_count": 5,
   "id": "ed15f8df-edf5-40e4-898d-0fcec0fb8686",
   "metadata": {},
   "outputs": [
    {
     "data": {
      "text/plain": [
       "1.2"
      ]
     },
     "execution_count": 5,
     "metadata": {},
     "output_type": "execute_result"
    }
   ],
   "source": [
    "data = [1,2,3,4,5]\n",
    "\n",
    "sum = 0\n",
    "for i in data:\n",
    "    sum+=i\n",
    "mean = sum/len(data)\n",
    "\n",
    "deviations = [abs(x - mean) for x in data]\n",
    "sum = 0\n",
    "for i in deviations:\n",
    "    sum+=i\n",
    "sum / len(deviations)"
   ]
  },
  {
   "cell_type": "markdown",
   "id": "ddfb408e-0bb4-40de-b5fc-fd7cbe77f35a",
   "metadata": {},
   "source": [
    "#### variance\n",
    "\n",
    "**variance** - standard deviation squared\n",
    "\n",
    "$$var=\\frac{\\sum\\limits_{i=1}^{n} (x_i - x_{mean})^2}{n-1}$$"
   ]
  },
  {
   "cell_type": "code",
   "execution_count": 6,
   "id": "bb62bdfb-7918-4f80-a7e4-a09eba980aaf",
   "metadata": {},
   "outputs": [
    {
     "data": {
      "text/plain": [
       "2.5"
      ]
     },
     "execution_count": 6,
     "metadata": {},
     "output_type": "execute_result"
    }
   ],
   "source": [
    "data = [1,2,3,4,5]\n",
    "\n",
    "sum = 0\n",
    "for i in data:\n",
    "    sum+=i\n",
    "mean = sum/len(data)\n",
    "\n",
    "squared_dev = [((x - mean)**2) for x in data]\n",
    "sum = 0\n",
    "for i in squared_dev:\n",
    "    sum+=i\n",
    "sum/(len(data) - 1)"
   ]
  },
  {
   "cell_type": "markdown",
   "id": "f1d96905-03ef-4e76-a591-71b901a4b2a4",
   "metadata": {},
   "source": [
    "#### standard deviation - sqrt(variance)\n",
    "\n",
    "$$sd = \\sqrt\\frac{\\sum\\limits_{i=1}^{n} (x_i - x_{mean})^2}{n-1}$$"
   ]
  },
  {
   "cell_type": "code",
   "execution_count": 7,
   "id": "663c6836-274d-42a3-9611-8a6af7ebd37c",
   "metadata": {},
   "outputs": [
    {
     "data": {
      "text/plain": [
       "1.5811388300841898"
      ]
     },
     "execution_count": 7,
     "metadata": {},
     "output_type": "execute_result"
    }
   ],
   "source": [
    "from math import sqrt\n",
    "data = [1,2,3,4,5]\n",
    "\n",
    "sum = 0\n",
    "for i in data:\n",
    "    sum+=i\n",
    "mean = sum/len(data)\n",
    "\n",
    "squared_dev = [((x - mean)**2) for x in data]\n",
    "sum = 0\n",
    "for i in squared_dev:\n",
    "    sum+=i\n",
    "sqrt(sum/(len(data)-1))"
   ]
  },
  {
   "cell_type": "markdown",
   "id": "8a2753f5-f2f6-4323-beda-03dc1f1adf9a",
   "metadata": {},
   "source": [
    "#### median absolute deviation\n",
    "\n",
    "**median absolute deviation** - median of absolute values of deviations from the median\n",
    "\n",
    "$$mad = median(|x_1 - m|, |x_2 - m| ...)$$\n",
    "\n",
    "$$mad = median(\\sum\\limits_{i=1}^{n} |x_i - x_{mean}|) $$"
   ]
  },
  {
   "cell_type": "code",
   "execution_count": 8,
   "id": "b43e5e83-4b29-4af4-9683-2be680491636",
   "metadata": {},
   "outputs": [
    {
     "name": "stdout",
     "output_type": "stream",
     "text": [
      "[2.0, 1.0, 0.0, 1.0, 2.0]\n"
     ]
    },
    {
     "data": {
      "text/plain": [
       "0.0"
      ]
     },
     "execution_count": 8,
     "metadata": {},
     "output_type": "execute_result"
    }
   ],
   "source": [
    "data = [1,2,3,4,5]\n",
    "\n",
    "sum = 0\n",
    "for i in data:\n",
    "    sum+=i\n",
    "mean = sum/len(data)\n",
    "\n",
    "abs_dev = [abs(x - mean) for x in data]\n",
    "\n",
    "print(abs_dev)\n",
    "median(abs_dev)"
   ]
  },
  {
   "cell_type": "markdown",
   "id": "b85fdbcf-1155-4486-8a4d-d728b5fe1fd2",
   "metadata": {},
   "source": [
    "### percentile based scores\n",
    "\n",
    "**percentile** - this is a number N from 0 to 100, such that N% of the array elements are less than it"
   ]
  },
  {
   "cell_type": "code",
   "execution_count": 9,
   "id": "d19ef93c-abc1-4504-a73b-a1df9f3eacaf",
   "metadata": {},
   "outputs": [
    {
     "data": {
      "text/plain": [
       "(8, 6, 4, 1)"
      ]
     },
     "execution_count": 9,
     "metadata": {},
     "output_type": "execute_result"
    }
   ],
   "source": [
    "def percentile(l: list, p: float) -> float:\n",
    "    id = int(len(l)*p)\n",
    "    return sorted(l)[id]\n",
    "data = [10,9,8,7,6,5,4,3,2,1]\n",
    "percentile(data,0.7), percentile(data,0.5), percentile(data,0.3), percentile(data,0.0)"
   ]
  },
  {
   "cell_type": "markdown",
   "id": "9d9a3023-d6f8-4947-916c-dfa7a608b9e3",
   "metadata": {},
   "source": [
    "### percentiles and box plots\n",
    "\n",
    "+ boxplot\n",
    "+ histogram\n",
    "+ density plot\n",
    "+ frequency table"
   ]
  },
  {
   "cell_type": "markdown",
   "id": "84932e1c-6cc1-48c3-9893-006c5f87ec08",
   "metadata": {},
   "source": [
    "#### boxplot\n",
    "**boxplot** - this type of chart shows in a convenient form the median (or, if necessary, the mean), lower and upper quartiles, minimum and maximum sample values, and outliers."
   ]
  },
  {
   "cell_type": "code",
   "execution_count": 10,
   "id": "53919aad-cef0-494a-811b-4c0552e8c78c",
   "metadata": {},
   "outputs": [],
   "source": [
    "import pandas as pd"
   ]
  },
  {
   "cell_type": "code",
   "execution_count": 11,
   "id": "30b8bb4e-46d7-4169-a3b1-3e7cf0015278",
   "metadata": {},
   "outputs": [
    {
     "data": {
      "image/png": "[encoded data removed]",
      "text/plain": [
       "<Figure size 640x480 with 1 Axes>"
      ]
     },
     "metadata": {},
     "output_type": "display_data"
    }
   ],
   "source": [
    "data = [1,2,3,2,1,5,4,3,6,7,8,9,100] # outlier data\n",
    "\n",
    "ax = pd.DataFrame(data=data).plot.box()"
   ]
  },
  {
   "cell_type": "markdown",
   "id": "da1a6984-6464-4061-a1ad-aeec87923f4b",
   "metadata": {},
   "source": [
    "with the help of pandas library we can produce box plots\n",
    "\n",
    "**as we see, outliers, median, range of the main part of the data and 25-75 percentiles are very clearly visible here**"
   ]
  },
  {
   "cell_type": "markdown",
   "id": "d99344a0-ee79-45ed-8075-2c6403a3b9d7",
   "metadata": {},
   "source": [
    "#### frequency table\n",
    "\n",
    "**frequency table** - divides the range of a variable into equal segments and reports how many values fall into each segment"
   ]
  },
  {
   "cell_type": "code",
   "execution_count": 12,
   "id": "c479e943-0517-446c-b0d0-70b88f6bd804",
   "metadata": {},
   "outputs": [
    {
     "data": {
      "text/plain": [
       "[(0.901, 25.75], (0.901, 25.75], (0.901, 25.75], (0.901, 25.75], (0.901, 25.75], ..., (0.901, 25.75], (0.901, 25.75], (0.901, 25.75], (0.901, 25.75], (75.25, 100.0]]\n",
       "Length: 13\n",
       "Categories (4, interval[float64, right]): [(0.901, 25.75] < (25.75, 50.5] < (50.5, 75.25] < (75.25, 100.0]]"
      ]
     },
     "execution_count": 12,
     "metadata": {},
     "output_type": "execute_result"
    }
   ],
   "source": [
    "population_data = [300000,50000,20000,200,10000,15000,10000,50000,2000,40000,70000,90000,10000,8000,5000,40000,45000,90000,1000,2000,3000,200]\n",
    "\n",
    "f_table = pd.cut(data,4)\n",
    "f_table"
   ]
  },
  {
   "cell_type": "code",
   "execution_count": 13,
   "id": "5bc232be-5ffd-4912-bdf3-bd33d74473ea",
   "metadata": {},
   "outputs": [
    {
     "data": {
      "text/plain": [
       "(0.901, 25.75]    12\n",
       "(25.75, 50.5]      0\n",
       "(50.5, 75.25]      0\n",
       "(75.25, 100.0]     1\n",
       "Name: count, dtype: int64"
      ]
     },
     "execution_count": 13,
     "metadata": {},
     "output_type": "execute_result"
    }
   ],
   "source": [
    "f_table.value_counts()"
   ]
  },
  {
   "cell_type": "markdown",
   "id": "d76b1d5c-8745-4ed2-a63c-ad6249565a17",
   "metadata": {},
   "source": [
    "#### histogram\n",
    "\n",
    "**histogram** - a way to visualize a frequency table with bins on the x-axis and data counts on the y-axis"
   ]
  },
  {
   "cell_type": "code",
   "execution_count": 14,
   "id": "cc0ff235-19e1-40a3-864b-9e9cb3b221fb",
   "metadata": {},
   "outputs": [
    {
     "data": {
      "image/png": "[encoded data removed]",
      "text/plain": [
       "<Figure size 640x480 with 1 Axes>"
      ]
     },
     "metadata": {},
     "output_type": "display_data"
    }
   ],
   "source": [
    "population_data = pd.DataFrame(data=population_data)\n",
    "ax = population_data.plot.hist()"
   ]
  },
  {
   "cell_type": "markdown",
   "id": "c883258e-c1ad-479b-bc1c-1daff05ac890",
   "metadata": {},
   "source": [
    "#### density plot\n",
    "\n",
    "**density plot** - associated with the histogram is a density graph that shows the distribution of values as a solid line"
   ]
  },
  {
   "cell_type": "code",
   "execution_count": 15,
   "id": "5cd98cb7-f322-4e62-a76f-04b6cfdb5a4e",
   "metadata": {},
   "outputs": [
    {
     "data": {
      "image/png": "[encoded data removed]",
      "text/plain": [
       "<Figure size 640x480 with 1 Axes>"
      ]
     },
     "metadata": {},
     "output_type": "display_data"
    }
   ],
   "source": [
    "ax = population_data.plot.density()"
   ]
  },
  {
   "cell_type": "code",
   "execution_count": 16,
   "id": "e61419a0-ea76-4ff9-b3ec-d930f9ecc992",
   "metadata": {},
   "outputs": [
    {
     "data": {
      "image/png": "[encoded data removed]",
      "text/plain": [
       "<Figure size 640x480 with 1 Axes>"
      ]
     },
     "metadata": {},
     "output_type": "display_data"
    }
   ],
   "source": [
    "ax = population_data.plot.hist()"
   ]
  },
  {
   "cell_type": "markdown",
   "id": "381a0e40-7e84-4575-a767-79c39c40a4ba",
   "metadata": {},
   "source": [
    "### binary and categorical data\n",
    "\n",
    "+ mode\n",
    "+ expected value\n",
    "+ bar charts"
   ]
  },
  {
   "cell_type": "markdown",
   "id": "e16089db-abd2-4a27-b440-fb2892d8d6ff",
   "metadata": {},
   "source": [
    "#### bar charts\n",
    "\n",
    "**bar charts** - a common visual tool for displaying a single categorical variable"
   ]
  },
  {
   "cell_type": "code",
   "execution_count": 17,
   "id": "4f09cca6-2f3c-4505-beac-0fdfb4bbca49",
   "metadata": {},
   "outputs": [
    {
     "data": {
      "text/html": [
       "<div>\n",
       "<style scoped>\n",
       "    .dataframe tbody tr th:only-of-type {\n",
       "        vertical-align: middle;\n",
       "    }\n",
       "\n",
       "    .dataframe tbody tr th {\n",
       "        vertical-align: top;\n",
       "    }\n",
       "\n",
       "    .dataframe thead th {\n",
       "        text-align: right;\n",
       "    }\n",
       "</style>\n",
       "<table border=\"1\" class=\"dataframe\">\n",
       "  <thead>\n",
       "    <tr style=\"text-align: right;\">\n",
       "      <th></th>\n",
       "      <th>day1</th>\n",
       "      <th>day2</th>\n",
       "      <th>day3</th>\n",
       "    </tr>\n",
       "  </thead>\n",
       "  <tbody>\n",
       "    <tr>\n",
       "      <th>0</th>\n",
       "      <td>1000</td>\n",
       "      <td>4000</td>\n",
       "      <td>6000</td>\n",
       "    </tr>\n",
       "    <tr>\n",
       "      <th>1</th>\n",
       "      <td>2000</td>\n",
       "      <td>2000</td>\n",
       "      <td>5000</td>\n",
       "    </tr>\n",
       "    <tr>\n",
       "      <th>2</th>\n",
       "      <td>3000</td>\n",
       "      <td>500</td>\n",
       "      <td>4000</td>\n",
       "    </tr>\n",
       "  </tbody>\n",
       "</table>\n",
       "</div>"
      ],
      "text/plain": [
       "   day1  day2  day3\n",
       "0  1000  4000  6000\n",
       "1  2000  2000  5000\n",
       "2  3000   500  4000"
      ]
     },
     "execution_count": 17,
     "metadata": {},
     "output_type": "execute_result"
    }
   ],
   "source": [
    "data = {'day1':[1000,2000,3000], 'day2':[4000,2000,500],'day3':[6000,5000,4000]}\n",
    "df = pd.DataFrame(data)\n",
    "df"
   ]
  },
  {
   "cell_type": "code",
   "execution_count": 18,
   "id": "f2321df3-8455-46f4-bed5-15d5d486d899",
   "metadata": {},
   "outputs": [
    {
     "data": {
      "image/png": "[encoded data removed]",
      "text/plain": [
       "<Figure size 640x480 with 1 Axes>"
      ]
     },
     "metadata": {},
     "output_type": "display_data"
    }
   ],
   "source": [
    "ax = df.transpose().plot.bar()"
   ]
  },
  {
   "cell_type": "code",
   "execution_count": 19,
   "id": "140ec5ce-281a-4810-b468-c609a89c6096",
   "metadata": {},
   "outputs": [
    {
     "data": {
      "image/png": "[encoded data removed]",
      "text/plain": [
       "<Figure size 640x480 with 1 Axes>"
      ]
     },
     "metadata": {},
     "output_type": "display_data"
    }
   ],
   "source": [
    "ax = df.plot.bar()"
   ]
  },
  {
   "cell_type": "markdown",
   "id": "45f7e3f9-2905-4242-8d5c-ab8abcf438db",
   "metadata": {},
   "source": [
    "#### mode\n",
    "\n",
    "**mode** - the value that appears in the data more often than others"
   ]
  },
  {
   "cell_type": "code",
   "execution_count": 20,
   "id": "0cd95413-5707-49ff-9433-a2a7f4588c3b",
   "metadata": {},
   "outputs": [],
   "source": [
    "from collections import Counter"
   ]
  },
  {
   "cell_type": "code",
   "execution_count": 50,
   "id": "3cc1b4c4-876e-424a-b7b9-1fd00ff257ea",
   "metadata": {},
   "outputs": [
    {
     "data": {
      "text/plain": [
       "Counter({5: 6, 1: 1, 2: 1, 4: 1, 53: 1, 9: 1})"
      ]
     },
     "execution_count": 50,
     "metadata": {},
     "output_type": "execute_result"
    }
   ],
   "source": [
    "data = [1,2,4,53,5,5,5,5,5,9,5] # mode = 5\n",
    "res = Counter(data)\n",
    "res"
   ]
  },
  {
   "cell_type": "markdown",
   "id": "3773d7eb-d9c5-4146-8dcb-b487e1f49c60",
   "metadata": {},
   "source": [
    "#### expected value\n",
    "\n",
    "**expected value** - represents either a future value\n",
    "\n",
    "**the expected value is calculated as follows:**\n",
    "\n",
    "+ multiply each outcome by the probability of its occurrence\n",
    "+ sum these values\n",
    "\n",
    "$$ ev = 0.05 * 200 + 0.25 * 50 + 0.2 * 100 + 0.5 * 0 = 42.5$$"
   ]
  },
  {
   "cell_type": "markdown",
   "id": "4d6bffbb-5e6e-4a4d-977c-0b183d1b9330",
   "metadata": {},
   "source": [
    "### correlation\n",
    "\n",
    "+ **correlation coefficent** - a metric that measures the degree to which numeric variables are related to each other\n",
    "+ **correlation matrix** - a table in which the rows and columns are variables, and the cell values ​​are the correlations between them\n",
    "+ **scatterplot** - a graph in which the values of one variable are plotted along the x-axis, and the values of another are plotted along the y-axis"
   ]
  },
  {
   "cell_type": "markdown",
   "id": "adab1a2d-91ba-4dfa-8125-eb51be3a1df1",
   "metadata": {},
   "source": [
    "#### correlation coefficent\n",
    "\n",
    "$$r = \\frac{\\sum\\limits_{i=1}^{n}(x_i - x_{mean})(y_i - y_{mean})}{(n-1)s_x s_y} $$"
   ]
  },
  {
   "cell_type": "markdown",
   "id": "6addb54d-5c57-463a-a87b-84ce78fccb39",
   "metadata": {},
   "source": [
    "#### scatterplot"
   ]
  },
  {
   "cell_type": "code",
   "execution_count": 22,
   "id": "fad248f2-9ea8-4631-856e-82870132f107",
   "metadata": {},
   "outputs": [
    {
     "data": {
      "text/html": [
       "<div>\n",
       "<style scoped>\n",
       "    .dataframe tbody tr th:only-of-type {\n",
       "        vertical-align: middle;\n",
       "    }\n",
       "\n",
       "    .dataframe tbody tr th {\n",
       "        vertical-align: top;\n",
       "    }\n",
       "\n",
       "    .dataframe thead th {\n",
       "        text-align: right;\n",
       "    }\n",
       "</style>\n",
       "<table border=\"1\" class=\"dataframe\">\n",
       "  <thead>\n",
       "    <tr style=\"text-align: right;\">\n",
       "      <th></th>\n",
       "      <th>x</th>\n",
       "      <th>y</th>\n",
       "    </tr>\n",
       "  </thead>\n",
       "  <tbody>\n",
       "    <tr>\n",
       "      <th>0</th>\n",
       "      <td>1700.0</td>\n",
       "      <td>-2881.699607</td>\n",
       "    </tr>\n",
       "    <tr>\n",
       "      <th>1</th>\n",
       "      <td>2300.0</td>\n",
       "      <td>-684.459880</td>\n",
       "    </tr>\n",
       "    <tr>\n",
       "      <th>2</th>\n",
       "      <td>3600.0</td>\n",
       "      <td>1559.159379</td>\n",
       "    </tr>\n",
       "    <tr>\n",
       "      <th>3</th>\n",
       "      <td>4300.0</td>\n",
       "      <td>124.264561</td>\n",
       "    </tr>\n",
       "    <tr>\n",
       "      <th>4</th>\n",
       "      <td>5600.0</td>\n",
       "      <td>3103.939660</td>\n",
       "    </tr>\n",
       "    <tr>\n",
       "      <th>5</th>\n",
       "      <td>6300.0</td>\n",
       "      <td>4189.011968</td>\n",
       "    </tr>\n",
       "    <tr>\n",
       "      <th>6</th>\n",
       "      <td>7700.0</td>\n",
       "      <td>6043.983056</td>\n",
       "    </tr>\n",
       "    <tr>\n",
       "      <th>7</th>\n",
       "      <td>8900.0</td>\n",
       "      <td>6244.277481</td>\n",
       "    </tr>\n",
       "    <tr>\n",
       "      <th>8</th>\n",
       "      <td>9100.0</td>\n",
       "      <td>4403.509867</td>\n",
       "    </tr>\n",
       "    <tr>\n",
       "      <th>9</th>\n",
       "      <td>10200.0</td>\n",
       "      <td>5030.806289</td>\n",
       "    </tr>\n",
       "  </tbody>\n",
       "</table>\n",
       "</div>"
      ],
      "text/plain": [
       "         x            y\n",
       "0   1700.0 -2881.699607\n",
       "1   2300.0  -684.459880\n",
       "2   3600.0  1559.159379\n",
       "3   4300.0   124.264561\n",
       "4   5600.0  3103.939660\n",
       "5   6300.0  4189.011968\n",
       "6   7700.0  6043.983056\n",
       "7   8900.0  6244.277481\n",
       "8   9100.0  4403.509867\n",
       "9  10200.0  5030.806289"
      ]
     },
     "execution_count": 22,
     "metadata": {},
     "output_type": "execute_result"
    }
   ],
   "source": [
    "import random\n",
    "x = [1000 * x for x in [1.7,2.3,3.6,4.3,5.6,6.3,7.7,8.9,9.1,10.2]]\n",
    "y = [x_i - 557 * random.random()*10 for x_i in x]\n",
    "data = {'x':x,'y':y}\n",
    "df = pd.DataFrame(data)\n",
    "df"
   ]
  },
  {
   "cell_type": "code",
   "execution_count": 23,
   "id": "1e0d2e86-ae26-4dee-98aa-8d1fba4366d8",
   "metadata": {},
   "outputs": [
    {
     "data": {
      "image/png": "[encoded data removed]",
      "text/plain": [
       "<Figure size 640x480 with 1 Axes>"
      ]
     },
     "metadata": {},
     "output_type": "display_data"
    }
   ],
   "source": [
    "ax = df.plot.scatter(x='x',y='y')"
   ]
  },
  {
   "cell_type": "markdown",
   "id": "0ccef34a-07b0-4cab-b867-1844bd975d4c",
   "metadata": {},
   "source": [
    "### exploration of two or more variables\n",
    "\n",
    "+ **contingency table** - summary of counts of two or more categorical variables\n",
    "+ **hexagonal binning** - a graph of two numeric variables in which entries are grouped in hexagons\n",
    "+ **contour plots** - graph showing the density of two numeric variables in topographic map form\n",
    "+ **violin plots** - a graph similar to a boxplot but showing density estimates"
   ]
  },
  {
   "cell_type": "markdown",
   "id": "24c95c77-6ac3-4ac9-a627-9f32b0717202",
   "metadata": {},
   "source": [
    "#### hexagon binning"
   ]
  },
  {
   "cell_type": "code",
   "execution_count": 33,
   "id": "015f31fd-250e-4a62-9c62-1916cc9de60e",
   "metadata": {},
   "outputs": [
    {
     "data": {
      "image/png": "[encoded data removed]",
      "text/plain": [
       "<Figure size 640x480 with 2 Axes>"
      ]
     },
     "metadata": {},
     "output_type": "display_data"
    }
   ],
   "source": [
    "x = [111,111,111,111,122,122,122,122,113,114,115,116,117,118,119,120]\n",
    "y = [111,111,111,111,122,122,122,112,113,114,115,116,117,118,119,120]\n",
    "\n",
    "data = {'X':x,'Y':y}\n",
    "df = pd.DataFrame(data)\n",
    "\n",
    "ax = df.plot.hexbin(x='X', y='Y') # the graph looks almost transparent and incomplete because I used small arrays;\n",
    "                                  # usually a grid of hexagonal baskets is used for large amounts of data"
   ]
  },
  {
   "cell_type": "markdown",
   "id": "78c7cc00-531f-4890-9b20-57569ed10b68",
   "metadata": {},
   "source": [
    "#### violin plots"
   ]
  },
  {
   "cell_type": "markdown",
   "id": "54b2afe5-f01e-47be-9d25-42945007c9e8",
   "metadata": {},
   "source": [
    "---BOXPLOT---"
   ]
  },
  {
   "cell_type": "code",
   "execution_count": 58,
   "id": "f516a0c5-0f8e-4076-a192-b84bfcbd03a2",
   "metadata": {},
   "outputs": [
    {
     "data": {
      "image/png": "[encoded data removed]",
      "text/plain": [
       "<Figure size 640x480 with 1 Axes>"
      ]
     },
     "metadata": {},
     "output_type": "display_data"
    }
   ],
   "source": [
    "data_1 = [1,2,3,4,5,4,3,2,1,6,7,9,10,9,8,7,6,5,30]\n",
    "df = pd.DataFrame(data_1)\n",
    "ax = df.boxplot()"
   ]
  },
  {
   "cell_type": "markdown",
   "id": "07786aeb-695d-44c2-b14f-f55e7affb9c1",
   "metadata": {},
   "source": [
    "---VIOLIN PLOT---"
   ]
  },
  {
   "cell_type": "code",
   "execution_count": 59,
   "id": "af81b9a5-6811-43b7-8c7c-1eea1cf2d54f",
   "metadata": {},
   "outputs": [
    {
     "data": {
      "image/png": "[encoded data removed]",
      "text/plain": [
       "<Figure size 640x480 with 1 Axes>"
      ]
     },
     "metadata": {},
     "output_type": "display_data"
    }
   ],
   "source": [
    "data_2 = [x_i / 1.5 for x_i in data_1]\n",
    "ax = sns.violinplot([data_1,data_2],inner='quartile')"
   ]
  }
 ],
 "metadata": {
  "kernelspec": {
   "display_name": "Python 3 (ipykernel)",
   "language": "python",
   "name": "python3"
  },
  "language_info": {
   "codemirror_mode": {
    "name": "ipython",
    "version": 3
   },
   "file_extension": ".py",
   "mimetype": "text/x-python",
   "name": "python",
   "nbconvert_exporter": "python",
   "pygments_lexer": "ipython3",
   "version": "3.12.4"
  }
 },
 "nbformat": 4,
 "nbformat_minor": 5
}
